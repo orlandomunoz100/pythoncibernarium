{
 "cells": [
  {
   "cell_type": "code",
   "execution_count": 1,
   "metadata": {},
   "outputs": [
    {
     "data": {
      "text/plain": [
       "15"
      ]
     },
     "execution_count": 1,
     "metadata": {},
     "output_type": "execute_result"
    }
   ],
   "source": [
    "#faren una linea de comentari, es una linea de codi que no séxecuta\n",
    "#las variables amb python -es un objetivo que \n",
    "x=10\n",
    "X=5\n",
    "x+X\n",
    "\n"
   ]
  },
  {
   "cell_type": "markdown",
   "metadata": {},
   "source": [
    "PRACTICA LOS MESES, QUE CONTENGA LOS MESES DE ENERO A JUNIO MENOS EL MES DE ABBRIL, AGREGUE AL FINAL DE LA LISTALOS MESES DE JULIO Y AGOSTO.INSERTE EL EL MES DE ABRIL Y AGREGUE AL FINAL LOS MESES DE MARZO Y JULIO. FINAMLMENTE LOS MESES NO CORECTOS EN ORDEN CRONOLOGICO."
   ]
  },
  {
   "cell_type": "code",
   "execution_count": 18,
   "metadata": {},
   "outputs": [
    {
     "name": "stdout",
     "output_type": "stream",
     "text": [
      "['enero', 'febrero', 'marzo', 'mayo', 'junio']\n"
     ]
    }
   ],
   "source": [
    "meses =[\"enero\",\"febrero\",\"marzo\",\"mayo\",\"junio\"]\n",
    "print(meses)"
   ]
  },
  {
   "cell_type": "code",
   "execution_count": 20,
   "metadata": {},
   "outputs": [
    {
     "name": "stdout",
     "output_type": "stream",
     "text": [
      "['enero', 'febrero', 'marzo', 'mayo', 'junio', 'julio', 'julio', 'agosto']\n"
     ]
    }
   ],
   "source": [
    "meses.append(\"julio\")\n",
    "meses.append(\"agosto\")\n",
    "print(meses)"
   ]
  },
  {
   "cell_type": "code",
   "execution_count": 21,
   "metadata": {},
   "outputs": [
    {
     "name": "stdout",
     "output_type": "stream",
     "text": [
      "['enero', 'febrero', 'marzo', 'abril', 'mayo', 'junio', 'julio', 'julio', 'agosto']\n"
     ]
    }
   ],
   "source": [
    "meses.insert(3,\"abril\")\n",
    "print(meses) "
   ]
  },
  {
   "cell_type": "code",
   "execution_count": null,
   "metadata": {},
   "outputs": [],
   "source": [
    "valor = 8\n",
    "if valor>4:\n",
    "    print(valor,\"es mayor que 4\")"
   ]
  },
  {
   "cell_type": "code",
   "execution_count": 23,
   "metadata": {},
   "outputs": [
    {
     "name": "stdout",
     "output_type": "stream",
     "text": [
      "numero es menor que 20\n"
     ]
    }
   ],
   "source": [
    "valor = 9\n",
    "if valor>20:\n",
    "    print(\"numero es mas grande que 20\")\n",
    "else:\n",
    "    print(\"numero es menor que 20\")\n"
   ]
  },
  {
   "cell_type": "code",
   "execution_count": 26,
   "metadata": {},
   "outputs": [
    {
     "name": "stdout",
     "output_type": "stream",
     "text": [
      "corecto\n"
     ]
    }
   ],
   "source": [
    "valor=input(\"posa un numero\")\n",
    "valor=float(valor)\n",
    "if valor>15.20:\n",
    "    print(\"corecto\")"
   ]
  },
  {
   "cell_type": "markdown",
   "metadata": {},
   "source": [
    "practica 3"
   ]
  },
  {
   "cell_type": "code",
   "execution_count": 32,
   "metadata": {},
   "outputs": [
    {
     "name": "stdout",
     "output_type": "stream",
     "text": [
      "esta entre >10-50\n"
     ]
    }
   ],
   "source": [
    "x=8\n",
    "if x>=10:\n",
    "    print(\"mas pequeno o iguala 10\")\n",
    "elif X<=50:\n",
    "    print (\"esta entre >10-50\")\n",
    "else:\n",
    "    print(\"es mas grande que 50\")\n"
   ]
  },
  {
   "cell_type": "code",
   "execution_count": 37,
   "metadata": {},
   "outputs": [
    {
     "name": "stdout",
     "output_type": "stream",
     "text": [
      "el numero es 1\n",
      "el numero es 2\n",
      "el numero es 3\n",
      "el numero es 4\n",
      "el numero es 5\n"
     ]
    }
   ],
   "source": [
    "\n",
    "lista2 = [1,2,3,4,5] \n",
    "for i in lista2:\n",
    "  print (\"el numero es\",i)\n",
    "\n",
    "\n"
   ]
  },
  {
   "cell_type": "code",
   "execution_count": 43,
   "metadata": {},
   "outputs": [],
   "source": [
    "lista4 = range(15) \n",
    "lista = (lista4)"
   ]
  },
  {
   "cell_type": "code",
   "execution_count": 48,
   "metadata": {},
   "outputs": [
    {
     "data": {
      "text/plain": [
       "[10, 13, 16, 19, 22, 25, 28]"
      ]
     },
     "execution_count": 48,
     "metadata": {},
     "output_type": "execute_result"
    }
   ],
   "source": [
    "lista5 = range(10, 30, 3)\n",
    "list(lista5)\n"
   ]
  },
  {
   "cell_type": "code",
   "execution_count": null,
   "metadata": {},
   "outputs": [
    {
     "ename": "SyntaxError",
     "evalue": "invalid syntax. Perhaps you forgot a comma? (3660022240.py, line 4)",
     "output_type": "error",
     "traceback": [
      "\u001b[1;36m  Cell \u001b[1;32mIn[50], line 4\u001b[1;36m\u001b[0m\n\u001b[1;33m    print(\"el valor del intervalo es\"iter)\u001b[0m\n\u001b[1;37m          ^\u001b[0m\n\u001b[1;31mSyntaxError\u001b[0m\u001b[1;31m:\u001b[0m invalid syntax. Perhaps you forgot a comma?\n"
     ]
    }
   ],
   "source": [
    "iter =1 \n",
    "for i in range(10,25):\n",
    "112    print(\"el valor de lista es\",i)\n",
    "2222    print(\"el valor del intervalo es\"iter)\n",
    "    print (\"el numero del intervalo es\", iter)\n",
    "    iter=iter +1\n",
    "    iter+=1\n",
    "    print(\"el numero total del intervalo es\",iter-1)"
   ]
  },
  {
   "cell_type": "code",
   "execution_count": 53,
   "metadata": {},
   "outputs": [
    {
     "name": "stdout",
     "output_type": "stream",
     "text": [
      "el dia de la semana es lunes\n",
      "el dia de la semana es martes\n",
      "el dia de la semana es miercoles\n",
      "el dia de la semana es jueves\n",
      "el dia de la semana es viernes\n"
     ]
    }
   ],
   "source": [
    "semana=[\"lunes\",\"martes\",\"miercoles\",\"jueves\",\"viernes\"]\n",
    "for dia in semana:\n",
    "    print (\"el dia de la semana es\",dia)"
   ]
  },
  {
   "cell_type": "code",
   "execution_count": 4,
   "metadata": {},
   "outputs": [
    {
     "name": "stdout",
     "output_type": "stream",
     "text": [
      "el dia de la semana miercoles\n",
      "el dia de la semana jueves\n",
      "el dia de la semana martes\n",
      "el dia de la semana viernes\n",
      "el dia de la semana lunes\n"
     ]
    }
   ],
   "source": [
    "semana={\"lunes\" ,\"martes\",\"miercoles\",\"jueves\",\"viernes\"}\n",
    "for dia in semana:\n",
    "    print(\"el dia de la semana\",dia)\n"
   ]
  },
  {
   "cell_type": "code",
   "execution_count": null,
   "metadata": {},
   "outputs": [
    {
     "ename": "SyntaxError",
     "evalue": "unterminated string literal (detected at line 4) (2265563313.py, line 4)",
     "output_type": "error",
     "traceback": [
      "  \u001b[36mCell\u001b[39m\u001b[36m \u001b[39m\u001b[32mIn[1]\u001b[39m\u001b[32m, line 4\u001b[39m\n\u001b[31m    \u001b[39m\u001b[31m\"iter= iter +1\u001b[39m\n    ^\n\u001b[31mSyntaxError\u001b[39m\u001b[31m:\u001b[39m unterminated string literal (detected at line 4)\n"
     ]
    }
   ],
   "source": [
    "iteer= 1\n",
    "for dia in semana:\n",
    "    print (\"el\",iter, dia de la semana es\",dia)\"\n",
    "    \"iter= iter +1"
   ]
  },
  {
   "cell_type": "code",
   "execution_count": null,
   "metadata": {},
   "outputs": [],
   "source": [
    "semana ={\"lunes\",martes\",\"miercoles\",\"jueves\",\"viernes\"}\"\n",
    "ordinal={\"PermissionError\"\n",
    "iter= 0\n",
    "for dia in semana:\n",
    "print(El\",ordinal,)"
   ]
  },
  {
   "cell_type": "markdown",
   "metadata": {},
   "source": [
    "las fuciones de logica AND y Or combinar y el if . or analizando varias condiciones o provee logicas y retorna verdadero o falso. el or retorna verdadero o falso\n",
    "el AND analiza varias condiciones y provee logicas \n"
   ]
  },
  {
   "cell_type": "code",
   "execution_count": 16,
   "metadata": {},
   "outputs": [
    {
     "name": "stdout",
     "output_type": "stream",
     "text": [
      "faig dte%\n"
     ]
    }
   ],
   "source": [
    "ciudad = \"barcelona\"\n",
    "importe = 1050\n",
    "if (ciudad==\"barcelona\") or (importe>1000):\n",
    "    print(\"faig dte%\")\n",
    "else:\n",
    "    print(\"no faig dte%\")"
   ]
  },
  {
   "cell_type": "code",
   "execution_count": 18,
   "metadata": {},
   "outputs": [
    {
     "name": "stdout",
     "output_type": "stream",
     "text": [
      "faig dte%\n"
     ]
    }
   ],
   "source": [
    "ciudad = \"barcelona\"\n",
    "importe = 1050\n",
    "if (ciudad==\"barcelona\") or (importe>1000):\n",
    "    print(\"faig dte%\")\n",
    "else:\n",
    "    print(\"no faig dte%\")"
   ]
  },
  {
   "cell_type": "markdown",
   "metadata": {},
   "source": [
    "cuando el AND \n"
   ]
  },
  {
   "cell_type": "code",
   "execution_count": 15,
   "metadata": {},
   "outputs": [
    {
     "name": "stdout",
     "output_type": "stream",
     "text": [
      "fora del tram de 10 i 50\n"
     ]
    }
   ],
   "source": [
    "numero = 6\n",
    "if(numero>=10) and (numero<=50):\n",
    "    print(\"numero compres entre 10 i 50 o entre 100 i 200\")\n",
    "else:\n",
    " print(\"fora del tram de 10 i 50\")"
   ]
  },
  {
   "cell_type": "code",
   "execution_count": 14,
   "metadata": {},
   "outputs": [
    {
     "name": "stdout",
     "output_type": "stream",
     "text": [
      "fora del tran de 10 i 50\n"
     ]
    }
   ],
   "source": [
    "numero =33\n",
    "if (10>numero>50) or (100<numero<200):\n",
    "    print(\"numero compres entre 10 i 50 o entre 100 i 200\")\n",
    "else:\n",
    "    print(\"fora del tran de 10 i 50\")"
   ]
  },
  {
   "cell_type": "code",
   "execution_count": 13,
   "metadata": {},
   "outputs": [
    {
     "name": "stdout",
     "output_type": "stream",
     "text": [
      "Numero esta entre 0 y 30\n"
     ]
    }
   ],
   "source": [
    "numero =5\n",
    "if (numero<30) and (numero>0):\n",
    "    print(\"Numero esta entre 0 y 30\")\n",
    "else:\n",
    "    print(\"numero fuera del intervalo\")    "
   ]
  },
  {
   "cell_type": "code",
   "execution_count": null,
   "metadata": {},
   "outputs": [],
   "source": [
    "numeros2 ={5,-8,145,75,62,37,-20,41,26}\n",
    "for i in numeros2:\n",
    "    if (i<0) or (i>120):\n",
    "        print(\"el numero\",i,\"esta fora de tram\")\n",
    "    elif i>=0 and i<30:\n",
    "        if (i<0) or (i>120):\n",
    "        print(\"el numero\",i,\"esta fora de tram\")\n",
    "    elif i>=0 and i<30:\n",
    "        if (i<0) or (i>120):\n",
    "        print(\"el numero\",i,\"esta fora de tram\")\n",
    "    elif i>=0 and i<30:\n",
    "        if (i<0) or (i>120):\n",
    "        print(\"el numero\",i,\"esta fora de tram\")\n",
    "    elif i>=0 and i<30:"
   ]
  },
  {
   "cell_type": "code",
   "execution_count": 20,
   "metadata": {},
   "outputs": [
    {
     "name": "stdout",
     "output_type": "stream",
     "text": [
      "d\n",
      "i\n",
      "m\n",
      "e\n",
      "n\n",
      "g\n",
      "e\n"
     ]
    }
   ],
   "source": [
    "paraula = \"dimenge\"\n",
    "for lletra in paraula:\n",
    "    print(lletra)"
   ]
  },
  {
   "cell_type": "code",
   "execution_count": 21,
   "metadata": {},
   "outputs": [
    {
     "name": "stdout",
     "output_type": "stream",
     "text": [
      "d\n",
      "i\n",
      "u\n",
      "m\n",
      "e\n",
      "g\n",
      "e\n"
     ]
    }
   ],
   "source": [
    "paraula = \"diumenge\"\n",
    "for lletra in paraula:\n",
    "    if lletra==\"n\":\n",
    "        continue\n",
    "    print(lletra)"
   ]
  },
  {
   "cell_type": "code",
   "execution_count": null,
   "metadata": {},
   "outputs": [],
   "source": [
    "funciones de texto ineresantes upper=mayusculas, lower= minusculas\n",
    "#replace = remplaza valores, split = dividir una cadena, por espacios en blanco\n"
   ]
  },
  {
   "cell_type": "code",
   "execution_count": 22,
   "metadata": {},
   "outputs": [
    {
     "name": "stdout",
     "output_type": "stream",
     "text": [
      "DIUMENGE\n"
     ]
    }
   ],
   "source": [
    "print(paraula.upper())"
   ]
  },
  {
   "cell_type": "code",
   "execution_count": 24,
   "metadata": {},
   "outputs": [
    {
     "name": "stdout",
     "output_type": "stream",
     "text": [
      "diumenge\n",
      "dium@ng@\n"
     ]
    }
   ],
   "source": [
    "print(paraula.lower())\n",
    "print(paraula.replace(\"e\",\"@\"))"
   ]
  },
  {
   "cell_type": "code",
   "execution_count": 25,
   "metadata": {},
   "outputs": [
    {
     "data": {
      "text/plain": [
       "['el', 'dillums', 'us', 'espero', 'aqui', 'a', 'tots,', 'no', 'falteu']"
      ]
     },
     "execution_count": 25,
     "metadata": {},
     "output_type": "execute_result"
    }
   ],
   "source": [
    "text = \"el dillums us espero aqui a tots, no falteu\"\n",
    "llista = text.split()\n",
    "list(llista)"
   ]
  },
  {
   "cell_type": "code",
   "execution_count": 27,
   "metadata": {},
   "outputs": [
    {
     "ename": "SyntaxError",
     "evalue": "invalid character '·' (U+00B7) (361255681.py, line 5)",
     "output_type": "error",
     "traceback": [
      "  \u001b[36mCell\u001b[39m\u001b[36m \u001b[39m\u001b[32mIn[27]\u001b[39m\u001b[32m, line 5\u001b[39m\n\u001b[31m    \u001b[39m\u001b[31m·llista{2}\u001b[39m\n    ^\n\u001b[31mSyntaxError\u001b[39m\u001b[31m:\u001b[39m invalid character '·' (U+00B7)\n"
     ]
    }
   ],
   "source": [
    "text = \"el dillums us espero aqui a tots, no falteu\"\n",
    "text = text,replace((\",\",\")\")) #\"\" vol dir buil\n",
    "llista = text.split()\n",
    "llista\n",
    "·llista{2}"
   ]
  },
  {
   "cell_type": "code",
   "execution_count": null,
   "metadata": {},
   "outputs": [],
   "source": [
    "llista3 = {\"Gener\",\"febrero\",\"Marzo\"}\n",
    "#primer entre cometes el caracter que vull que "
   ]
  },
  {
   "cell_type": "code",
   "execution_count": null,
   "metadata": {},
   "outputs": [],
   "source": [
    "Practica 12: Junta els elementos de una lista que te permita separar dia, mes i any ycon una variable que contenga la data correcta 02/04/2025\n"
   ]
  },
  {
   "cell_type": "code",
   "execution_count": 28,
   "metadata": {},
   "outputs": [
    {
     "name": "stdout",
     "output_type": "stream",
     "text": [
      "{'02', '2025', '04'}\n"
     ]
    }
   ],
   "source": [
    "fecha ={\"02\",\"04\",\"2025\"}\n",
    "print(fecha)\n"
   ]
  },
  {
   "cell_type": "code",
   "execution_count": null,
   "metadata": {},
   "outputs": [],
   "source": [
    "practica 13 una lista de numeros {28,25,32,7,44,35,62,73} imprimir los numeros por individual que muestre la suma mas pequeño que 180\n",
    "\n",
    "numeros = {28,25,32,7,44,35,62,73}\n",
    "\n",
    "\n",
    "\n",
    "prantica 14 mostrar un texto nomas la cuarta palabra de la palabra frase = \"esto sera una frase de prueba para la practica 14"
   ]
  },
  {
   "cell_type": "markdown",
   "metadata": {},
   "source": []
  },
  {
   "cell_type": "code",
   "execution_count": null,
   "metadata": {},
   "outputs": [
    {
     "name": "stdout",
     "output_type": "stream",
     "text": [
      "28\n",
      "43\n",
      "75\n",
      "82\n",
      "126\n",
      "161\n"
     ]
    }
   ],
   "source": [
    "lista = [28,15,32,7,44,35,62,73]\n",
    "\n",
    "total = 0\n",
    "for numero in lista:\n",
    "    total += numero\n",
    "    if total > 180:\n",
    "        break\n",
    "    print(total)\n",
    "\n"
   ]
  },
  {
   "cell_type": "code",
   "execution_count": 45,
   "metadata": {},
   "outputs": [
    {
     "name": "stdout",
     "output_type": "stream",
     "text": [
      "['esto', 'sera', 'una', 'frase', 'de', 'prueba', 'para', 'la', 'practica', '14']\n",
      "frase\n"
     ]
    }
   ],
   "source": [
    "frase = \"esto sera una frase de prueba para la practica 14\"\n",
    "frase_separada = frase.split(\" \")\n",
    "print(frase_separada)\n",
    "print(frase_separada[3])"
   ]
  },
  {
   "cell_type": "code",
   "execution_count": 49,
   "metadata": {},
   "outputs": [
    {
     "name": "stdout",
     "output_type": "stream",
     "text": [
      "23\n",
      "183\n"
     ]
    }
   ],
   "source": [
    "#les funciones personalizadas en pyton, que es una funcion es un codigo que da un resultado entendra la seva sintanxis.\n",
    "#por cada una \n",
    "\n",
    "\n",
    "def suma3(x):\n",
    "    print(x+3)\n",
    "    \n",
    "\n",
    "#i aqui la crido\n",
    "suma3(20)\n",
    "suma3(180)"
   ]
  },
  {
   "cell_type": "code",
   "execution_count": 51,
   "metadata": {},
   "outputs": [],
   "source": [
    "def retar3(x):\n",
    "    resultat = x-3\n",
    "    return (resultat)"
   ]
  },
  {
   "cell_type": "code",
   "execution_count": 52,
   "metadata": {},
   "outputs": [
    {
     "name": "stdout",
     "output_type": "stream",
     "text": [
      "Variable         Type        Data/Info\n",
      "--------------------------------------\n",
      "ciudad           str         barcelona\n",
      "dia              str         lunes\n",
      "fecha            set         {'02', '2025', '04'}\n",
      "frase            str         esto sera una frase de prueba para la practica 14\n",
      "frase_separada   list        n=10\n",
      "importe          int         1050\n",
      "lista            list        n=8\n",
      "lletra           str         e\n",
      "llista           list        n=9\n",
      "numero           int         62\n",
      "paraula          str         diumenge\n",
      "retar3           function    <function retar3 at 0x000001F55402EE80>\n",
      "semana           set         {'miercoles', 'jueves', '<...>tes', 'viernes', 'lunes'}\n",
      "suma             int         0\n",
      "suma3            function    <function suma3 at 0x000001F55402FCE0>\n",
      "text             str         el dillums us espero aqui a tots, no falteu\n",
      "total            int         223\n"
     ]
    }
   ],
   "source": [
    "%whos"
   ]
  },
  {
   "cell_type": "code",
   "execution_count": null,
   "metadata": {},
   "outputs": [
    {
     "data": {
      "text/plain": [
       "83"
      ]
     },
     "execution_count": 56,
     "metadata": {},
     "output_type": "execute_result"
    }
   ],
   "source": [
    "#eliminar un objeto del queirner \n",
    "#del \n",
    "#funcion que contenga dos parametros\n",
    "\n",
    "def sumaab(a,b):\n",
    "    return int(a)+int(b)\n",
    "#pasar valor desde imput\n",
    "a = input(\"possi el valor de a\")\n",
    "b = input(\"possi el valor de b\")\n",
    "#cridar a la funcion\n",
    "sumaab(a, b)"
   ]
  },
  {
   "cell_type": "code",
   "execution_count": null,
   "metadata": {},
   "outputs": [
    {
     "name": "stdout",
     "output_type": "stream",
     "text": [
      "13\n"
     ]
    },
    {
     "data": {
      "text/plain": [
       "13.0"
      ]
     },
     "execution_count": 64,
     "metadata": {},
     "output_type": "execute_result"
    }
   ],
   "source": [
    "#practica 16\n",
    "\n",
    "def funcion(numero):\n",
    "    resultado = numero - 4\n",
    "    resultado = resultado / 2\n",
    "    return resultado\n",
    "\n",
    "funcion(8)\n",
    "funcion(5)\n",
    "funcion (20)\n",
    "suma3(10)\n",
    "funcion(30)\n"
   ]
  },
  {
   "cell_type": "code",
   "execution_count": 68,
   "metadata": {},
   "outputs": [
    {
     "data": {
      "text/plain": [
       "4.0"
      ]
     },
     "execution_count": 68,
     "metadata": {},
     "output_type": "execute_result"
    }
   ],
   "source": [
    "#practica 17\n",
    "def area_triangulo(base, altura):\n",
    "    resultado = base * altura\n",
    "    resultado = resultado / 2\n",
    "    return resultado\n",
    "\n",
    "area(2,4)"
   ]
  },
  {
   "cell_type": "code",
   "execution_count": null,
   "metadata": {},
   "outputs": [],
   "source": []
  }
 ],
 "metadata": {
  "kernelspec": {
   "display_name": "Python 3",
   "language": "python",
   "name": "python3"
  },
  "language_info": {
   "codemirror_mode": {
    "name": "ipython",
    "version": 3
   },
   "file_extension": ".py",
   "mimetype": "text/x-python",
   "name": "python",
   "nbconvert_exporter": "python",
   "pygments_lexer": "ipython3",
   "version": "3.13.2"
  }
 },
 "nbformat": 4,
 "nbformat_minor": 2
}
