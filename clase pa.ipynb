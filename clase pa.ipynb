{
 "cells": [
  {
   "cell_type": "code",
   "execution_count": 1,
   "metadata": {},
   "outputs": [
    {
     "data": {
      "text/plain": [
       "15"
      ]
     },
     "execution_count": 1,
     "metadata": {},
     "output_type": "execute_result"
    }
   ],
   "source": [
    "#faren una linea de comentari, es una linea de codi que no séxecuta\n",
    "#las variables amb python -es un objetivo que \n",
    "x=10\n",
    "X=5\n",
    "x+X\n",
    "\n"
   ]
  },
  {
   "cell_type": "markdown",
   "metadata": {},
   "source": [
    "PRACTICA LOS MESES, QUE CONTENGA LOS MESES DE ENERO A JUNIO MENOS EL MES DE ABBRIL, AGREGUE AL FINAL DE LA LISTALOS MESES DE JULIO Y AGOSTO.INSERTE EL EL MES DE ABRIL Y AGREGUE AL FINAL LOS MESES DE MARZO Y JULIO. FINAMLMENTE LOS MESES NO CORECTOS EN ORDEN CRONOLOGICO."
   ]
  },
  {
   "cell_type": "code",
   "execution_count": 18,
   "metadata": {},
   "outputs": [
    {
     "name": "stdout",
     "output_type": "stream",
     "text": [
      "['enero', 'febrero', 'marzo', 'mayo', 'junio']\n"
     ]
    }
   ],
   "source": [
    "meses =[\"enero\",\"febrero\",\"marzo\",\"mayo\",\"junio\"]\n",
    "print(meses)"
   ]
  },
  {
   "cell_type": "code",
   "execution_count": 20,
   "metadata": {},
   "outputs": [
    {
     "name": "stdout",
     "output_type": "stream",
     "text": [
      "['enero', 'febrero', 'marzo', 'mayo', 'junio', 'julio', 'julio', 'agosto']\n"
     ]
    }
   ],
   "source": [
    "meses.append(\"julio\")\n",
    "meses.append(\"agosto\")\n",
    "print(meses)"
   ]
  },
  {
   "cell_type": "code",
   "execution_count": 21,
   "metadata": {},
   "outputs": [
    {
     "name": "stdout",
     "output_type": "stream",
     "text": [
      "['enero', 'febrero', 'marzo', 'abril', 'mayo', 'junio', 'julio', 'julio', 'agosto']\n"
     ]
    }
   ],
   "source": [
    "meses.insert(3,\"abril\")\n",
    "print(meses) "
   ]
  },
  {
   "cell_type": "code",
   "execution_count": null,
   "metadata": {},
   "outputs": [],
   "source": [
    "valor = 8\n",
    "if valor>4:\n",
    "    print(valor,\"es mayor que 4\")"
   ]
  },
  {
   "cell_type": "code",
   "execution_count": 23,
   "metadata": {},
   "outputs": [
    {
     "name": "stdout",
     "output_type": "stream",
     "text": [
      "numero es menor que 20\n"
     ]
    }
   ],
   "source": [
    "valor = 9\n",
    "if valor>20:\n",
    "    print(\"numero es mas grande que 20\")\n",
    "else:\n",
    "    print(\"numero es menor que 20\")\n"
   ]
  },
  {
   "cell_type": "code",
   "execution_count": 26,
   "metadata": {},
   "outputs": [
    {
     "name": "stdout",
     "output_type": "stream",
     "text": [
      "corecto\n"
     ]
    }
   ],
   "source": [
    "valor=input(\"posa un numero\")\n",
    "valor=float(valor)\n",
    "if valor>15.20:\n",
    "    print(\"corecto\")"
   ]
  },
  {
   "cell_type": "markdown",
   "metadata": {},
   "source": [
    "practica 3"
   ]
  },
  {
   "cell_type": "code",
   "execution_count": 32,
   "metadata": {},
   "outputs": [
    {
     "name": "stdout",
     "output_type": "stream",
     "text": [
      "esta entre >10-50\n"
     ]
    }
   ],
   "source": [
    "x=8\n",
    "if x>=10:\n",
    "    print(\"mas pequeno o iguala 10\")\n",
    "elif X<=50:\n",
    "    print (\"esta entre >10-50\")\n",
    "else:\n",
    "    print(\"es mas grande que 50\")\n"
   ]
  },
  {
   "cell_type": "code",
   "execution_count": 37,
   "metadata": {},
   "outputs": [
    {
     "name": "stdout",
     "output_type": "stream",
     "text": [
      "el numero es 1\n",
      "el numero es 2\n",
      "el numero es 3\n",
      "el numero es 4\n",
      "el numero es 5\n"
     ]
    }
   ],
   "source": [
    "\n",
    "lista2 = [1,2,3,4,5] \n",
    "for i in lista2:\n",
    "  print (\"el numero es\",i)\n",
    "\n",
    "\n"
   ]
  },
  {
   "cell_type": "code",
   "execution_count": 43,
   "metadata": {},
   "outputs": [],
   "source": [
    "lista4 = range(15) \n",
    "lista = (lista4)"
   ]
  },
  {
   "cell_type": "code",
   "execution_count": 48,
   "metadata": {},
   "outputs": [
    {
     "data": {
      "text/plain": [
       "[10, 13, 16, 19, 22, 25, 28]"
      ]
     },
     "execution_count": 48,
     "metadata": {},
     "output_type": "execute_result"
    }
   ],
   "source": [
    "lista5 = range(10, 30, 3)\n",
    "list(lista5)\n"
   ]
  },
  {
   "cell_type": "code",
   "execution_count": 50,
   "metadata": {},
   "outputs": [
    {
     "ename": "SyntaxError",
     "evalue": "invalid syntax. Perhaps you forgot a comma? (3660022240.py, line 4)",
     "output_type": "error",
     "traceback": [
      "\u001b[1;36m  Cell \u001b[1;32mIn[50], line 4\u001b[1;36m\u001b[0m\n\u001b[1;33m    print(\"el valor del intervalo es\"iter)\u001b[0m\n\u001b[1;37m          ^\u001b[0m\n\u001b[1;31mSyntaxError\u001b[0m\u001b[1;31m:\u001b[0m invalid syntax. Perhaps you forgot a comma?\n"
     ]
    }
   ],
   "source": [
    "iter =1 \n",
    "for i in range(10,25):\n",
    "    print(\"el valor de lista es\",i)\n",
    "    print(\"el valor del intervalo es\"iter)\n",
    "    print (\"el numero del intervalo es\", iter)\n",
    "    iter=iter +1\n",
    "    iter+=1\n",
    "    print(\"el numero total del intervalo es\",iter-1)"
   ]
  },
  {
   "cell_type": "code",
   "execution_count": 53,
   "metadata": {},
   "outputs": [
    {
     "name": "stdout",
     "output_type": "stream",
     "text": [
      "el dia de la semana es lunes\n",
      "el dia de la semana es martes\n",
      "el dia de la semana es miercoles\n",
      "el dia de la semana es jueves\n",
      "el dia de la semana es viernes\n"
     ]
    }
   ],
   "source": [
    "semana=[\"lunes\",\"martes\",\"miercoles\",\"jueves\",\"viernes\"]\n",
    "for dia in semana:\n",
    "    print (\"el dia de la semana es\",dia)"
   ]
  }
 ],
 "metadata": {
  "kernelspec": {
   "display_name": "Python 3",
   "language": "python",
   "name": "python3"
  },
  "language_info": {
   "codemirror_mode": {
    "name": "ipython",
    "version": 3
   },
   "file_extension": ".py",
   "mimetype": "text/x-python",
   "name": "python",
   "nbconvert_exporter": "python",
   "pygments_lexer": "ipython3",
   "version": "3.13.2"
  }
 },
 "nbformat": 4,
 "nbformat_minor": 2
}
